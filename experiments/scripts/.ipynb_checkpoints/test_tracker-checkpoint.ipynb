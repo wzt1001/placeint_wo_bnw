{
 "cells": [
  {
   "cell_type": "code",
   "execution_count": null,
   "metadata": {},
   "outputs": [],
   "source": []
  },
  {
   "cell_type": "code",
   "execution_count": 2,
   "metadata": {},
   "outputs": [
    {
     "ename": "ModuleNotFoundError",
     "evalue": "No module named 'frcnn.model'",
     "output_type": "error",
     "traceback": [
      "\u001b[0;31m---------------------------------------------------------------------------\u001b[0m",
      "\u001b[0;31mModuleNotFoundError\u001b[0m                       Traceback (most recent call last)",
      "\u001b[0;32m<ipython-input-2-b447cc49ade6>\u001b[0m in \u001b[0;36m<module>\u001b[0;34m\u001b[0m\n\u001b[1;32m     13\u001b[0m \u001b[0;34m\u001b[0m\u001b[0m\n\u001b[1;32m     14\u001b[0m \u001b[0;31m# import test_tracktor\u001b[0m\u001b[0;34m\u001b[0m\u001b[0;34m\u001b[0m\u001b[0;34m\u001b[0m\u001b[0m\n\u001b[0;32m---> 15\u001b[0;31m \u001b[0mdetection\u001b[0m \u001b[0;34m=\u001b[0m \u001b[0m__import__\u001b[0m\u001b[0;34m(\u001b[0m\u001b[0;34m'test_tracktor.py'\u001b[0m\u001b[0;34m)\u001b[0m\u001b[0;34m\u001b[0m\u001b[0;34m\u001b[0m\u001b[0m\n\u001b[0m\u001b[1;32m     16\u001b[0m \u001b[0mconfig_path\u001b[0m \u001b[0;34m=\u001b[0m \u001b[0;34m'config.json'\u001b[0m\u001b[0;34m\u001b[0m\u001b[0;34m\u001b[0m\u001b[0m\n\u001b[1;32m     17\u001b[0m \u001b[0mclient_id\u001b[0m \u001b[0;34m=\u001b[0m \u001b[0;34m'beijing_hopson_one'\u001b[0m\u001b[0;34m\u001b[0m\u001b[0;34m\u001b[0m\u001b[0m\n",
      "\u001b[0;32m~/data/placeint_wo_bnw/experiments/scripts/test_tracktor.py\u001b[0m in \u001b[0;36m<module>\u001b[0;34m\u001b[0m\n\u001b[1;32m     44\u001b[0m \u001b[0;34m\u001b[0m\u001b[0m\n\u001b[1;32m     45\u001b[0m \u001b[0;32mfrom\u001b[0m \u001b[0mtracktor\u001b[0m\u001b[0;34m.\u001b[0m\u001b[0mconfig\u001b[0m \u001b[0;32mimport\u001b[0m \u001b[0mget_output_dir\u001b[0m\u001b[0;34m\u001b[0m\u001b[0;34m\u001b[0m\u001b[0m\n\u001b[0;32m---> 46\u001b[0;31m \u001b[0;32mfrom\u001b[0m \u001b[0mtracktor\u001b[0m\u001b[0;34m.\u001b[0m\u001b[0mdatasets\u001b[0m\u001b[0;34m.\u001b[0m\u001b[0mfactory\u001b[0m \u001b[0;32mimport\u001b[0m \u001b[0mDatasets\u001b[0m\u001b[0;34m\u001b[0m\u001b[0;34m\u001b[0m\u001b[0m\n\u001b[0m\u001b[1;32m     47\u001b[0m \u001b[0;32mfrom\u001b[0m \u001b[0mtracktor\u001b[0m\u001b[0;34m.\u001b[0m\u001b[0moracle_tracker\u001b[0m \u001b[0;32mimport\u001b[0m \u001b[0mOracleTracker\u001b[0m\u001b[0;34m\u001b[0m\u001b[0;34m\u001b[0m\u001b[0m\n\u001b[1;32m     48\u001b[0m \u001b[0;32mfrom\u001b[0m \u001b[0mtracktor\u001b[0m\u001b[0;34m.\u001b[0m\u001b[0mresnet\u001b[0m \u001b[0;32mimport\u001b[0m \u001b[0mresnet50\u001b[0m\u001b[0;34m\u001b[0m\u001b[0;34m\u001b[0m\u001b[0m\n",
      "\u001b[0;32m~/data/placeint_wo_bnw/experiments/scripts/tracktor/datasets/factory.py\u001b[0m in \u001b[0;36m<module>\u001b[0;34m\u001b[0m\n\u001b[1;32m      1\u001b[0m \u001b[0;34m\u001b[0m\u001b[0m\n\u001b[0;32m----> 2\u001b[0;31m \u001b[0;32mfrom\u001b[0m \u001b[0;34m.\u001b[0m\u001b[0mmot_wrapper\u001b[0m \u001b[0;32mimport\u001b[0m \u001b[0mMOT17_Wrapper\u001b[0m\u001b[0;34m,\u001b[0m \u001b[0mMOT19CVPR_Wrapper\u001b[0m\u001b[0;34m,\u001b[0m \u001b[0mMOT17LOWFPS_Wrapper\u001b[0m\u001b[0;34m\u001b[0m\u001b[0;34m\u001b[0m\u001b[0m\n\u001b[0m\u001b[1;32m      3\u001b[0m \u001b[0;32mfrom\u001b[0m \u001b[0;34m.\u001b[0m\u001b[0mmot_siamese_wrapper\u001b[0m \u001b[0;32mimport\u001b[0m \u001b[0mMOT_Siamese_Wrapper\u001b[0m\u001b[0;34m\u001b[0m\u001b[0;34m\u001b[0m\u001b[0m\n\u001b[1;32m      4\u001b[0m \u001b[0;32mfrom\u001b[0m \u001b[0;34m.\u001b[0m\u001b[0mmot15_wrapper\u001b[0m \u001b[0;32mimport\u001b[0m \u001b[0mMOT15_Wrapper\u001b[0m\u001b[0;34m\u001b[0m\u001b[0;34m\u001b[0m\u001b[0m\n\u001b[1;32m      5\u001b[0m \u001b[0;32mfrom\u001b[0m \u001b[0;34m.\u001b[0m\u001b[0mmarcuhmot\u001b[0m \u001b[0;32mimport\u001b[0m \u001b[0mMarCUHMOT\u001b[0m\u001b[0;34m\u001b[0m\u001b[0;34m\u001b[0m\u001b[0m\n",
      "\u001b[0;32m~/data/placeint_wo_bnw/experiments/scripts/tracktor/datasets/mot_wrapper.py\u001b[0m in \u001b[0;36m<module>\u001b[0;34m\u001b[0m\n\u001b[1;32m      2\u001b[0m \u001b[0;32mfrom\u001b[0m \u001b[0mtorch\u001b[0m\u001b[0;34m.\u001b[0m\u001b[0mutils\u001b[0m\u001b[0;34m.\u001b[0m\u001b[0mdata\u001b[0m \u001b[0;32mimport\u001b[0m \u001b[0mDataset\u001b[0m\u001b[0;34m\u001b[0m\u001b[0;34m\u001b[0m\u001b[0m\n\u001b[1;32m      3\u001b[0m \u001b[0;34m\u001b[0m\u001b[0m\n\u001b[0;32m----> 4\u001b[0;31m \u001b[0;32mfrom\u001b[0m \u001b[0;34m.\u001b[0m\u001b[0mmot_sequence\u001b[0m \u001b[0;32mimport\u001b[0m \u001b[0mMOT17_Sequence\u001b[0m\u001b[0;34m,\u001b[0m \u001b[0mMOT19CVPR_Sequence\u001b[0m\u001b[0;34m,\u001b[0m \u001b[0mMOT17LOWFPS_Sequence\u001b[0m\u001b[0;34m\u001b[0m\u001b[0;34m\u001b[0m\u001b[0m\n\u001b[0m\u001b[1;32m      5\u001b[0m \u001b[0;34m\u001b[0m\u001b[0m\n\u001b[1;32m      6\u001b[0m \u001b[0;34m\u001b[0m\u001b[0m\n",
      "\u001b[0;32m~/data/placeint_wo_bnw/experiments/scripts/tracktor/datasets/mot_sequence.py\u001b[0m in \u001b[0;36m<module>\u001b[0;34m\u001b[0m\n\u001b[1;32m     10\u001b[0m \u001b[0;34m\u001b[0m\u001b[0m\n\u001b[1;32m     11\u001b[0m \u001b[0;32mimport\u001b[0m \u001b[0mcv2\u001b[0m\u001b[0;34m\u001b[0m\u001b[0;34m\u001b[0m\u001b[0m\n\u001b[0;32m---> 12\u001b[0;31m \u001b[0;32mfrom\u001b[0m \u001b[0mfrcnn\u001b[0m\u001b[0;34m.\u001b[0m\u001b[0mmodel\u001b[0m \u001b[0;32mimport\u001b[0m \u001b[0mtest\u001b[0m\u001b[0;34m\u001b[0m\u001b[0;34m\u001b[0m\u001b[0m\n\u001b[0m\u001b[1;32m     13\u001b[0m \u001b[0;34m\u001b[0m\u001b[0m\n\u001b[1;32m     14\u001b[0m \u001b[0;32mfrom\u001b[0m \u001b[0;34m.\u001b[0m\u001b[0;34m.\u001b[0m\u001b[0mconfig\u001b[0m \u001b[0;32mimport\u001b[0m \u001b[0mcfg\u001b[0m\u001b[0;34m\u001b[0m\u001b[0;34m\u001b[0m\u001b[0m\n",
      "\u001b[0;31mModuleNotFoundError\u001b[0m: No module named 'frcnn.model'"
     ]
    }
   ],
   "source": [
    "import os\n",
    "import sys\n",
    "import datetime\n",
    "import time\n",
    "\n",
    "import json\n",
    "from helpers.db_opt import connect_to_db\n",
    "from sqlalchemy import create_engine\n",
    "import boto3\n",
    "import pandas as pd\n",
    "from helpers.s3_module import *\n",
    "from tools.parser_hopson_one import *\n",
    "\n",
    "# import test_tracktor\n",
    "detection = __import__('test_tracktor.py')\n",
    "config_path = 'config.json'\n",
    "client_id = 'beijing_hopson_one'\n",
    "# video_name = '2019-12-22-100000_L2-J11_hopson.mp4'\n",
    "\n",
    "# list all buckets on s3\n",
    "s3 = boto3.resource('s3')\n",
    "s3_file_sys = FileSysModule()\n",
    "bucket_name = 'beijing-hopson-one-hk-new'\n",
    "bucket = boto3.resource('s3').Bucket(bucket_name)\n",
    "prefix = 'uploads/hopson_one_beijing_II'\n",
    "\n",
    "with open(config_path) as jsonfile:\n",
    "    config = json.load(jsonfile)\n",
    "    \n",
    "engine = create_engine('''postgresql://%s:%s@%s:%s/%s''' % (config['db']['user'], \n",
    "                                              \"placeint\", config['db']['host'], str(5432),\n",
    "                                              \"placeint\"))"
   ]
  },
  {
   "cell_type": "code",
   "execution_count": 2,
   "metadata": {},
   "outputs": [
    {
     "name": "stdout",
     "output_type": "stream",
     "text": [
      "2020-02-09 23:07:36,877 - root - INFO - fps 25.0, frame count 1842684, duration 73707.36\n",
      "2020-02-09 23:07:36,877 - root - INFO - time start 2019-12-22 10:00:00\n",
      "2020-02-09 23:07:36,878 - root - INFO - time end 2019-12-23 06:28:27.360000\n",
      "2020-02-09 23:07:36,878 - root - INFO - created at 2020-02-09 23:07:36 UTC\n",
      "{'user': 'postgres', 'dbname': 'placeint', 'host': 'placeint.cii8tarmga6t.ap-east-1.rds.amazonaws.com', 'port': '5432', 'tty': '', 'options': '', 'sslmode': 'prefer', 'sslcompression': '0', 'krbsrvname': 'postgres', 'target_session_attrs': 'any'} \n",
      "\n",
      "You are connected to - ('PostgreSQL 10.6 on x86_64-pc-linux-gnu, compiled by gcc (GCC) 4.8.5 20150623 (Red Hat 4.8.5-11), 64-bit',)\n",
      "\n",
      "row already exist in processing table\n",
      "{'tracktor': {'name': 'Tracktor++', 'module_name': 'MOT17', 'desription': None, 'seed': 12345, 'network': 'fpn', 'obj_detect_weights': 'output/fpn/res101/mot_2017_train/voc_init_iccv19/fpn_1_27.pth', 'obj_detect_config': 'output/fpn/res101/mot_2017_train/voc_init_iccv19/config.yaml', 'reid_network_weights': './models/ResNet_iter_25245.pth', 'reid_network_config': './models/res50-mot17-batch_hard/sacred_config.yaml', 'interpolate': False, 'write_images': False, 'dataset': 'mot17_train_FRCNN17', 'frame_split': [0.0, 1.0], 'tracker': {'detection_person_thresh': 0.5, 'regression_person_thresh': 0.5, 'detection_nms_thresh': 0.3, 'regression_nms_thresh': 0.6, 'motion_model': {'enabled': False, 'n_steps': 1, 'center_only': True}, 'public_detections': True, 'max_features_num': 10, 'do_align': False, 'warp_mode': 'cv2.MOTION_EUCLIDEAN', 'number_of_iterations': 100, 'termination_eps': 1e-05, 'do_reid': True, 'inactive_patience': 10, 'reid_sim_threshold': 2.0, 'reid_iou_threshold': 0.2}}}\n",
      "{'tracktor': {'name': 'Tracktor++', 'module_name': 'MOT17', 'desription': None, 'seed': 12345, 'network': 'fpn', 'obj_detect_weights': 'output/fpn/res101/mot_2017_train/voc_init_iccv19/fpn_1_27.pth', 'obj_detect_config': 'output/fpn/res101/mot_2017_train/voc_init_iccv19/config.yaml', 'reid_network_weights': './models/ResNet_iter_25245.pth', 'reid_network_config': './models/res50-mot17-batch_hard/sacred_config.yaml', 'interpolate': False, 'write_images': False, 'dataset': 'mot17_train_FRCNN17', 'frame_split': [0.0, 1.0], 'tracker': {'detection_person_thresh': 0.5, 'regression_person_thresh': 0.5, 'detection_nms_thresh': 0.3, 'regression_nms_thresh': 0.6, 'motion_model': {'enabled': False, 'n_steps': 1, 'center_only': True}, 'public_detections': True, 'max_features_num': 10, 'do_align': False, 'warp_mode': 'cv2.MOTION_EUCLIDEAN', 'number_of_iterations': 100, 'termination_eps': 1e-05, 'do_reid': True, 'inactive_patience': 10, 'reid_sim_threshold': 2.0, 'reid_iou_threshold': 0.2}}}\n",
      "2020-02-09 23:07:40,885 - root - INFO - start to track file 2019-12-22-100000_L2-J11_hopson\n",
      "\u001b[5m\u001b[31mWARNING\u001b[0m \u001b[32m[02/09 23:07:40 d2.config.compat]: \u001b[0mConfig './detection/detectron2/configs/COCO-Detection/faster_rcnn_R_50_FPN_3x.yaml' has no VERSION. Assuming it to be compatible with latest v2.\n",
      "2020-02-09 23:07:41,277 - fvcore.common.checkpoint - INFO - Loading checkpoint from detectron2://COCO-Detection/faster_rcnn_R_50_FPN_3x/137849458/model_final_280758.pkl\n",
      "2020-02-09 23:07:41,277 - fvcore.common.file_io - INFO - URL https://dl.fbaipublicfiles.com/detectron2/COCO-Detection/faster_rcnn_R_50_FPN_3x/137849458/model_final_280758.pkl cached in /home/ztwang/.torch/fvcore_cache/detectron2/COCO-Detection/faster_rcnn_R_50_FPN_3x/137849458/model_final_280758.pkl\n",
      "2020-02-09 23:07:41,346 - fvcore.common.checkpoint - INFO - Reading a file from 'Detectron2 Model Zoo'\n",
      "total frame count is 241842684, 0 people detectedtensor([[  3., 141.,   3., 241.],\n",
      "        [  3., 353.,   3., 404.]]) tensor([0, 1])\n",
      "0\n",
      "total frame count is 25tensor([[  3., 142.,   3., 240.],\n",
      "        [  3., 144.,   3., 221.]]) tensor([0, 1])\n",
      "1\n",
      "0\n",
      "total frame count is 37tensor([[  3., 142.,   3., 248.],\n",
      "        [  3., 133.,   3., 177.],\n",
      "        [  3., 103.,   3., 170.],\n",
      "        [  3., 137.,   3., 193.],\n",
      "        [  3.,  98.,   3., 128.],\n",
      "        [  3., 188.,   3., 251.],\n",
      "        [  3.,  97.,   3., 129.]]) tensor([0, 1, 2, 3, 4, 5, 6])\n",
      "2\n",
      "1\n",
      "0\n",
      "total frame count is 49tensor([[  3., 133.,   3., 177.],\n",
      "        [  3., 103.,   3., 171.],\n",
      "        [  3., 100.,   3., 170.],\n",
      "        [  3., 342.,   3., 394.],\n",
      "        [  3., 137.,   3., 193.],\n",
      "        [  3.,  98.,   3., 128.],\n",
      "        [  3., 188.,   3., 251.],\n",
      "        [  3.,  97.,   3., 129.]]) tensor([0, 1, 2, 3, 4, 5, 6, 7])\n",
      "8\n"
     ]
    },
    {
     "ename": "IndexError",
     "evalue": "index 8 is out of bounds for dimension 0 with size 8",
     "output_type": "error",
     "traceback": [
      "\u001b[0;31m---------------------------------------------------------------------------\u001b[0m",
      "\u001b[0;31mIndexError\u001b[0m                                Traceback (most recent call last)",
      "\u001b[0;32m<ipython-input-2-00832064f70b>\u001b[0m in \u001b[0;36m<module>\u001b[0;34m\u001b[0m\n\u001b[1;32m      9\u001b[0m \u001b[0;31m# check if large file:\u001b[0m\u001b[0;34m\u001b[0m\u001b[0;34m\u001b[0m\u001b[0;34m\u001b[0m\u001b[0m\n\u001b[1;32m     10\u001b[0m \u001b[0;31m# if detector.check_if_run():\u001b[0m\u001b[0;34m\u001b[0m\u001b[0;34m\u001b[0m\u001b[0;34m\u001b[0m\u001b[0m\n\u001b[0;32m---> 11\u001b[0;31m \u001b[0mdetector\u001b[0m\u001b[0;34m.\u001b[0m\u001b[0mrun\u001b[0m\u001b[0;34m(\u001b[0m\u001b[0;34m)\u001b[0m\u001b[0;34m\u001b[0m\u001b[0;34m\u001b[0m\u001b[0m\n\u001b[0m\u001b[1;32m     12\u001b[0m \u001b[0;32massert\u001b[0m \u001b[0;36m0\u001b[0m\u001b[0;34m\u001b[0m\u001b[0;34m\u001b[0m\u001b[0m\n\u001b[1;32m     13\u001b[0m \u001b[0mdetector\u001b[0m\u001b[0;34m.\u001b[0m\u001b[0mupdate_process_table\u001b[0m\u001b[0;34m(\u001b[0m\u001b[0;34m)\u001b[0m\u001b[0;34m\u001b[0m\u001b[0;34m\u001b[0m\u001b[0m\n",
      "\u001b[0;32m~/data/placeint-main/scripts/0_pedestrian_detection.py\u001b[0m in \u001b[0;36mrun\u001b[0;34m(self)\u001b[0m\n\u001b[1;32m    387\u001b[0m                     \u001b[0moutputs\u001b[0m\u001b[0;34m,\u001b[0m \u001b[0mbbx_head\u001b[0m \u001b[0;34m=\u001b[0m \u001b[0mtracker\u001b[0m\u001b[0;34m.\u001b[0m\u001b[0mupdate\u001b[0m\u001b[0;34m(\u001b[0m\u001b[0mbbox\u001b[0m\u001b[0;34m,\u001b[0m \u001b[0mbbx_head\u001b[0m\u001b[0;34m,\u001b[0m \u001b[0mcls_conf\u001b[0m\u001b[0;34m,\u001b[0m \u001b[0mimage\u001b[0m\u001b[0;34m)\u001b[0m\u001b[0;34m\u001b[0m\u001b[0;34m\u001b[0m\u001b[0m\n\u001b[1;32m    388\u001b[0m                 \u001b[0;32melif\u001b[0m \u001b[0mself\u001b[0m\u001b[0;34m.\u001b[0m\u001b[0mconfig\u001b[0m\u001b[0;34m[\u001b[0m\u001b[0;34m\"general\"\u001b[0m\u001b[0;34m]\u001b[0m\u001b[0;34m[\u001b[0m\u001b[0;34m\"tracker\"\u001b[0m\u001b[0;34m]\u001b[0m \u001b[0;34m==\u001b[0m \u001b[0;34m\"tracktor\"\u001b[0m\u001b[0;34m:\u001b[0m\u001b[0;34m\u001b[0m\u001b[0;34m\u001b[0m\u001b[0m\n\u001b[0;32m--> 389\u001b[0;31m                     \u001b[0mtracker\u001b[0m\u001b[0;34m.\u001b[0m\u001b[0mstep\u001b[0m\u001b[0;34m(\u001b[0m\u001b[0;34m[\u001b[0m\u001b[0mimage\u001b[0m\u001b[0;34m]\u001b[0m\u001b[0;34m,\u001b[0m \u001b[0mbbox\u001b[0m\u001b[0;34m,\u001b[0m \u001b[0mcls_conf\u001b[0m\u001b[0;34m)\u001b[0m\u001b[0;34m\u001b[0m\u001b[0;34m\u001b[0m\u001b[0m\n\u001b[0m\u001b[1;32m    390\u001b[0m                     \u001b[0moutputs\u001b[0m \u001b[0;34m=\u001b[0m \u001b[0mtracker\u001b[0m\u001b[0;34m.\u001b[0m\u001b[0mget_results\u001b[0m\u001b[0;34m(\u001b[0m\u001b[0;34m)\u001b[0m\u001b[0;34m\u001b[0m\u001b[0;34m\u001b[0m\u001b[0m\n\u001b[1;32m    391\u001b[0m                     \u001b[0mself\u001b[0m\u001b[0;34m.\u001b[0m\u001b[0mcheck000\u001b[0m \u001b[0;34m=\u001b[0m \u001b[0mtracker\u001b[0m\u001b[0;34m\u001b[0m\u001b[0;34m\u001b[0m\u001b[0m\n",
      "\u001b[0;32m~/data/placeint-main/scripts/tracking/tracktor/tracker.py\u001b[0m in \u001b[0;36mstep\u001b[0;34m(self, blob, boxes, scores)\u001b[0m\n\u001b[1;32m    331\u001b[0m \u001b[0;34m\u001b[0m\u001b[0m\n\u001b[1;32m    332\u001b[0m                         \u001b[0;31m# regress\u001b[0m\u001b[0;34m\u001b[0m\u001b[0;34m\u001b[0m\u001b[0;34m\u001b[0m\u001b[0m\n\u001b[0;32m--> 333\u001b[0;31m                         \u001b[0mperson_scores\u001b[0m \u001b[0;34m=\u001b[0m \u001b[0mself\u001b[0m\u001b[0;34m.\u001b[0m\u001b[0mregress_tracks\u001b[0m\u001b[0;34m(\u001b[0m\u001b[0mblob\u001b[0m\u001b[0;34m,\u001b[0m \u001b[0mboxes\u001b[0m\u001b[0;34m,\u001b[0m \u001b[0minds\u001b[0m\u001b[0;34m)\u001b[0m\u001b[0;34m.\u001b[0m\u001b[0mcpu\u001b[0m\u001b[0;34m(\u001b[0m\u001b[0;34m)\u001b[0m\u001b[0;34m\u001b[0m\u001b[0;34m\u001b[0m\u001b[0m\n\u001b[0m\u001b[1;32m    334\u001b[0m \u001b[0;34m\u001b[0m\u001b[0m\n\u001b[1;32m    335\u001b[0m                         \u001b[0;32mif\u001b[0m \u001b[0mlen\u001b[0m\u001b[0;34m(\u001b[0m\u001b[0mself\u001b[0m\u001b[0;34m.\u001b[0m\u001b[0mtracks\u001b[0m\u001b[0;34m)\u001b[0m\u001b[0;34m:\u001b[0m\u001b[0;34m\u001b[0m\u001b[0;34m\u001b[0m\u001b[0m\n",
      "\u001b[0;32m~/data/placeint-main/scripts/tracking/tracktor/tracker.py\u001b[0m in \u001b[0;36mregress_tracks\u001b[0;34m(self, blob, boxes, scores)\u001b[0m\n\u001b[1;32m    109\u001b[0m                         \u001b[0mprint\u001b[0m\u001b[0;34m(\u001b[0m\u001b[0mi\u001b[0m\u001b[0;34m)\u001b[0m\u001b[0;34m\u001b[0m\u001b[0;34m\u001b[0m\u001b[0m\n\u001b[1;32m    110\u001b[0m                         \u001b[0mt\u001b[0m \u001b[0;34m=\u001b[0m \u001b[0mself\u001b[0m\u001b[0;34m.\u001b[0m\u001b[0mtracks\u001b[0m\u001b[0;34m[\u001b[0m\u001b[0mi\u001b[0m\u001b[0;34m]\u001b[0m\u001b[0;34m\u001b[0m\u001b[0;34m\u001b[0m\u001b[0m\n\u001b[0;32m--> 111\u001b[0;31m                         \u001b[0mt\u001b[0m\u001b[0;34m.\u001b[0m\u001b[0mscore\u001b[0m \u001b[0;34m=\u001b[0m \u001b[0mscores\u001b[0m\u001b[0;34m[\u001b[0m\u001b[0mi\u001b[0m\u001b[0;34m]\u001b[0m\u001b[0;34m\u001b[0m\u001b[0;34m\u001b[0m\u001b[0m\n\u001b[0m\u001b[1;32m    112\u001b[0m                         \u001b[0;32mif\u001b[0m \u001b[0mscores\u001b[0m\u001b[0;34m[\u001b[0m\u001b[0mi\u001b[0m\u001b[0;34m]\u001b[0m \u001b[0;34m<=\u001b[0m \u001b[0mself\u001b[0m\u001b[0;34m.\u001b[0m\u001b[0mregression_person_thresh\u001b[0m\u001b[0;34m:\u001b[0m\u001b[0;34m\u001b[0m\u001b[0;34m\u001b[0m\u001b[0m\n\u001b[1;32m    113\u001b[0m                                 \u001b[0mself\u001b[0m\u001b[0;34m.\u001b[0m\u001b[0mtracks_to_inactive\u001b[0m\u001b[0;34m(\u001b[0m\u001b[0;34m[\u001b[0m\u001b[0mt\u001b[0m\u001b[0;34m]\u001b[0m\u001b[0;34m)\u001b[0m\u001b[0;34m\u001b[0m\u001b[0;34m\u001b[0m\u001b[0m\n",
      "\u001b[0;31mIndexError\u001b[0m: index 8 is out of bounds for dimension 0 with size 8"
     ]
    }
   ],
   "source": [
    "basename = '2019-12-22-100000_L2-J11_hopson.mp4'\n",
    "ts_start, file_size, byte_per_sec, duration, camera_id, floor_id = parse_hopson_one(basename)\n",
    "\n",
    "# start detector\n",
    "detector = detection.detection(basename, config_path, client_id='hopson_one', \n",
    "               ts_start=ts_start, floor_id=floor_id, camera_id=camera_id)\n",
    "detector.check_process_has_row()\n",
    "\n",
    "# check if large file:\n",
    "# if detector.check_if_run():\n",
    "detector.run()\n",
    "assert 0\n",
    "detector.update_process_table()\n",
    "detector.con.close()"
   ]
  },
  {
   "cell_type": "code",
   "execution_count": 6,
   "metadata": {},
   "outputs": [
    {
     "data": {
      "text/plain": [
       "[<tracking.tracktor.tracker.Track at 0x7fc388d6a128>,\n",
       " <tracking.tracktor.tracker.Track at 0x7fc30c946f28>,\n",
       " <tracking.tracktor.tracker.Track at 0x7fc30c946e80>,\n",
       " <tracking.tracktor.tracker.Track at 0x7fc30c92f828>,\n",
       " <tracking.tracktor.tracker.Track at 0x7fc30c92f8d0>,\n",
       " <tracking.tracktor.tracker.Track at 0x7fc30c92f710>,\n",
       " <tracking.tracktor.tracker.Track at 0x7fc30c92f780>,\n",
       " <tracking.tracktor.tracker.Track at 0x7fc30c92f908>,\n",
       " <tracking.tracktor.tracker.Track at 0x7fc30c92f470>]"
      ]
     },
     "execution_count": 6,
     "metadata": {},
     "output_type": "execute_result"
    }
   ],
   "source": [
    "detector."
   ]
  },
  {
   "cell_type": "code",
   "execution_count": 5,
   "metadata": {},
   "outputs": [
    {
     "ename": "AttributeError",
     "evalue": "'Tracktor' object has no attribute 'scores'",
     "output_type": "error",
     "traceback": [
      "\u001b[0;31m---------------------------------------------------------------------------\u001b[0m",
      "\u001b[0;31mAttributeError\u001b[0m                            Traceback (most recent call last)",
      "\u001b[0;32m<ipython-input-5-d86b3b720a60>\u001b[0m in \u001b[0;36m<module>\u001b[0;34m\u001b[0m\n\u001b[0;32m----> 1\u001b[0;31m \u001b[0mlen\u001b[0m\u001b[0;34m(\u001b[0m\u001b[0mdetector\u001b[0m\u001b[0;34m.\u001b[0m\u001b[0mcheck000\u001b[0m\u001b[0;34m.\u001b[0m\u001b[0mscores\u001b[0m\u001b[0;34m)\u001b[0m\u001b[0;34m\u001b[0m\u001b[0;34m\u001b[0m\u001b[0m\n\u001b[0m",
      "\u001b[0;31mAttributeError\u001b[0m: 'Tracktor' object has no attribute 'scores'"
     ]
    }
   ],
   "source": [
    "len(detector.check000.scores)"
   ]
  },
  {
   "cell_type": "code",
   "execution_count": null,
   "metadata": {},
   "outputs": [],
   "source": []
  }
 ],
 "metadata": {
  "kernelspec": {
   "display_name": "Python [conda env:tracktor] *",
   "language": "python",
   "name": "conda-env-tracktor-py"
  },
  "language_info": {
   "codemirror_mode": {
    "name": "ipython",
    "version": 3
   },
   "file_extension": ".py",
   "mimetype": "text/x-python",
   "name": "python",
   "nbconvert_exporter": "python",
   "pygments_lexer": "ipython3",
   "version": "3.6.7"
  }
 },
 "nbformat": 4,
 "nbformat_minor": 2
}
